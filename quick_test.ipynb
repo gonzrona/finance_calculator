{
 "cells": [
  {
   "cell_type": "code",
   "execution_count": 5,
   "metadata": {},
   "outputs": [],
   "source": [
    "# from interest_functions import apr_daily_compound, apr_monthly_compound\n",
    "import interest_functions as apr"
   ]
  },
  {
   "cell_type": "code",
   "execution_count": 13,
   "metadata": {},
   "outputs": [
    {
     "name": "stdout",
     "output_type": "stream",
     "text": [
      "33252.566803120695\n",
      "29082.094400519738\n",
      "25801.931033158584\n",
      "23199.02852935163\n",
      "21081.46495777115\n",
      "154019.6287615289\n",
      "132965.68248532337\n"
     ]
    }
   ],
   "source": [
    "# print(apr.apr_daily_compound(100000.0, 500.0, .0423))\n",
    "# print(apr.apr_monthly_compound(100000.0, 500.0, .0423))\n",
    "# print(apr.apr_daily_compound(10000.0, 200.0, .2049))\n",
    "# print(apr.apr_monthly_compound(10000.0, 200.0, .2049))\n",
    "print(apr.apr_daily_compound_accrue(80908.51, 551.02, .0423))\n",
    "print(apr.apr_daily_compound_accrue(80908.51, 600, .0423))\n",
    "print(apr.apr_daily_compound_accrue(80908.51, 650, .0423))\n",
    "print(apr.apr_daily_compound_accrue(80908.51, 700, .0423))\n",
    "print(apr.apr_daily_compound_accrue(80908.51, 750, .0423))\n",
    "\n",
    "print(apr.apr_daily_compound_accrue(254019.03, 1851.13, .05625))\n",
    "print(apr.apr_daily_compound_accrue(254019.03, 2000.0, .05625))"
   ]
  },
  {
   "cell_type": "code",
   "execution_count": 13,
   "metadata": {},
   "outputs": [
    {
     "name": "stdout",
     "output_type": "stream",
     "text": [
      "{'name': 'Christa', 'salary': 94200}\n",
      "{'name': 'Ron', 'salary': 95000}\n"
     ]
    }
   ],
   "source": [
    "import json\n",
    "# json.load(\"test.json\")\n",
    "f = open('test.json', \"r\")\n",
    "data = json.loads(f.read())\n",
    "for i in data['family']:\n",
    "    print(i)\n",
    "f.close()"
   ]
  },
  {
   "cell_type": "code",
   "execution_count": null,
   "metadata": {},
   "outputs": [],
   "source": [
    "dictionary = {\n",
    "    \"name\": \"Christa\",\n",
    "    \"salary\": 94200,\n",
    "    \"age\": 26\n",
    "}\n",
    " \n",
    "with open(\"sample.json\", \"w\") as outfile:\n",
    "    json.dump(dictionary, outfile)"
   ]
  }
 ],
 "metadata": {
  "kernelspec": {
   "display_name": "finance",
   "language": "python",
   "name": "python3"
  },
  "language_info": {
   "codemirror_mode": {
    "name": "ipython",
    "version": 3
   },
   "file_extension": ".py",
   "mimetype": "text/x-python",
   "name": "python",
   "nbconvert_exporter": "python",
   "pygments_lexer": "ipython3",
   "version": "3.10.9"
  },
  "orig_nbformat": 4
 },
 "nbformat": 4,
 "nbformat_minor": 2
}
